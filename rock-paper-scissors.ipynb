{
 "cells": [
  {
   "cell_type": "markdown",
   "metadata": {},
   "source": [
    "<img src=\"https://bit.ly/2VnXWr2\" width=\"100\" align=\"left\">"
   ]
  },
  {
   "cell_type": "markdown",
   "metadata": {},
   "source": [
    "# Rock, Paper & Scissors\n",
    "\n",
    "Let's play the famous game against our computer. You can check the rules [here](https://en.wikipedia.org/wiki/Rock%E2%80%93paper%E2%80%93scissors). \n",
    "\n",
    "## Task\n",
    "Create a program that imitates the playability of the well known game of rock, paper, scissors. Follow the guidelines provided.\n",
    "\n",
    "## Tools\n",
    "1. Loop: **for/while**\n",
    "2. Functions: **input(), print()...**\n",
    "3. Conditional statements: **if, elif, else**\n",
    "4. Definition of functions. Modular programming\n",
    "5. Import modules\n",
    "\n",
    "**To solve this challenge, the use of functions is recommended.**\n",
    "\n",
    "#### 1. Import the choice function of the random module."
   ]
  },
  {
   "cell_type": "code",
   "execution_count": 6,
   "metadata": {},
   "outputs": [],
   "source": [
    "import random"
   ]
  },
  {
   "cell_type": "markdown",
   "metadata": {},
   "source": [
    "#### 2. Create a list that includes the 3 possible gesture options of the game: 'rock', 'paper' or 'scissors'. Store the list in a variable called `gestures`."
   ]
  },
  {
   "cell_type": "code",
   "execution_count": 7,
   "metadata": {},
   "outputs": [],
   "source": [
    "gestures = ['rock','scissors','paper']"
   ]
  },
  {
   "cell_type": "markdown",
   "metadata": {},
   "source": [
    "#### 3. Create a variable called `n_rounds` to store the maximum number of rounds to play in a game. \n",
    "Remember that the number of rounds must be odd: 1, 3, 5, ..."
   ]
  },
  {
   "cell_type": "code",
   "execution_count": 8,
   "metadata": {},
   "outputs": [],
   "source": [
    "n_rounds = 3"
   ]
  },
  {
   "cell_type": "markdown",
   "metadata": {},
   "source": [
    "#### 4. Create a variable called `rounds_to_win` to store the number of rounds that a player must win to win the game.\n",
    "**Hint**: the value stored in `rounds_to_win` depends on the value of `n_rounds`. "
   ]
  },
  {
   "cell_type": "code",
   "execution_count": 9,
   "metadata": {},
   "outputs": [],
   "source": [
    "rounds_to_win = int(n_rounds/2) + 1"
   ]
  },
  {
   "cell_type": "markdown",
   "metadata": {},
   "source": [
    "#### 5. Create two variables to store the number of rounds that the computer and the player have won. Call these variables `cpu_score` and `player_score`."
   ]
  },
  {
   "cell_type": "code",
   "execution_count": 10,
   "metadata": {},
   "outputs": [],
   "source": [
    "cpu_score = 0\n",
    "player_score = 0"
   ]
  },
  {
   "cell_type": "markdown",
   "metadata": {},
   "source": [
    "#### 6. Define a function that randomly returns one of the 3 gesture options.\n",
    "You will use this function to simulate the gesture choice of the computer. "
   ]
  },
  {
   "cell_type": "code",
   "execution_count": 11,
   "metadata": {},
   "outputs": [],
   "source": [
    "def cpu_gesture():\n",
    "    \n",
    "    cpu = random.choice(gestures)\n",
    "    \n",
    "    return cpu"
   ]
  },
  {
   "cell_type": "markdown",
   "metadata": {},
   "source": [
    "#### 7. Define a function that asks the player which is the gesture he or she wants to show: 'rock', 'paper' or 'scissors'.\n",
    "The player should only be allowed to choose one of the 3 gesture options. If the player's choice is not rock, paper or scissors, keep asking until it is."
   ]
  },
  {
   "cell_type": "code",
   "execution_count": 12,
   "metadata": {},
   "outputs": [],
   "source": [
    "def player_choice():\n",
    "    \n",
    "    player = input(\"\\nChoose your move, player: \")\n",
    "    \n",
    "    while player not in gestures:\n",
    "        player = input(\"This move is not permitted, choose between: 'rock','paper',scissors'. Let's go: \")\n",
    "        \n",
    "    return player     "
   ]
  },
  {
   "cell_type": "markdown",
   "metadata": {},
   "source": [
    "#### 8. Define a function that checks who won a round. \n",
    "The function should return 0 if there is a tie, 1 if the computer wins and 2 if the player wins."
   ]
  },
  {
   "cell_type": "code",
   "execution_count": 13,
   "metadata": {},
   "outputs": [],
   "source": [
    "def winner(cpu,player):\n",
    "\n",
    "    check = {'rock':0,'scissors':0,'paper':0}\n",
    "\n",
    "    aux = gestures.index(cpu)\n",
    "    n_gesture = ''\n",
    "    l_gesture = ''\n",
    "\n",
    "    if aux < len(gestures)-1:\n",
    "        n_gestures = gestures[aux+1]\n",
    "    \n",
    "        if aux+1 < len(gestures)-1:\n",
    "            l_gestures = gestures[aux+2]\n",
    "        else:\n",
    "            l_gestures = gestures[0]\n",
    "    \n",
    "    if aux == len(gestures)-1:\n",
    "        n_gestures = gestures[0]\n",
    "        l_gestures = gestures[1]\n",
    "    \n",
    "    check[n_gestures] = -1\n",
    "    check[l_gestures] = 1\n",
    "\n",
    "    if check[cpu] > check[player]:\n",
    "        win = 'CPU'\n",
    "    elif check[cpu] == check[player]:\n",
    "        win = 'Tie'\n",
    "    else:\n",
    "        win = 'player'\n",
    "\n",
    "    return win"
   ]
  },
  {
   "cell_type": "markdown",
   "metadata": {},
   "source": [
    "#### 9. Define a function that prints the choice of the computer, the choice of the player and a message that announces who won the current round. \n",
    "You should also use this function to update the variables that count the number of rounds that the computer and the player have won. The score of the winner increases by one point. If there is a tie, the score does not increase."
   ]
  },
  {
   "cell_type": "code",
   "execution_count": 14,
   "metadata": {},
   "outputs": [],
   "source": [
    "def rounds(cpu,player):\n",
    "    print(\"\\nThe CPU chose:\",cpu)\n",
    "    print(\"You chose:\",player)\n",
    "    \n",
    "    win = winner(cpu,player)\n",
    "    \n",
    "    if win != 'Tie':\n",
    "        print(\"\\nThe\",win,\"won!\")\n",
    "    else:\n",
    "        print(\"\\nIt's a tie!\")"
   ]
  },
  {
   "cell_type": "markdown",
   "metadata": {},
   "source": [
    "#### 10. Now it's time to code the execution of the game using the functions and variables you defined above. \n",
    "\n",
    "First, create a loop structure that repeats while no player reaches the minimum score necessary to win and the number of rounds is less than the maximum number of rounds to play in a game.  \n",
    "\n",
    "Inside the loop, use the functions and variables above to create the execution of a round: ask for the player's choice, generate the random choice of the computer, show the round results, update the scores, etc. "
   ]
  },
  {
   "cell_type": "code",
   "execution_count": 15,
   "metadata": {},
   "outputs": [
    {
     "name": "stdout",
     "output_type": "stream",
     "text": [
      "\n",
      "Choose your move, player: rock\n",
      "\n",
      "The CPU chose: scissors\n",
      "You chose: rock\n",
      "\n",
      "The player won!\n",
      "\n",
      "Choose your move, player: rock\n",
      "\n",
      "The CPU chose: rock\n",
      "You chose: rock\n",
      "\n",
      "It's a tie!\n",
      "\n",
      "Choose your move, player: rock\n",
      "\n",
      "The CPU chose: rock\n",
      "You chose: rock\n",
      "\n",
      "It's a tie!\n",
      "\n",
      "Choose your move, player: rock\n",
      "\n",
      "The CPU chose: rock\n",
      "You chose: rock\n",
      "\n",
      "It's a tie!\n",
      "\n",
      "Choose your move, player: rock\n",
      "\n",
      "The CPU chose: rock\n",
      "You chose: rock\n",
      "\n",
      "It's a tie!\n",
      "\n",
      "Choose your move, player: rock\n",
      "\n",
      "The CPU chose: rock\n",
      "You chose: rock\n",
      "\n",
      "It's a tie!\n",
      "\n",
      "Choose your move, player: rock\n",
      "\n",
      "The CPU chose: rock\n",
      "You chose: rock\n",
      "\n",
      "It's a tie!\n",
      "\n",
      "Choose your move, player: rock\n",
      "\n",
      "The CPU chose: scissors\n",
      "You chose: rock\n",
      "\n",
      "The player won!\n"
     ]
    }
   ],
   "source": [
    "while max(player_score,cpu_score) < rounds_to_win:\n",
    "    cpu = cpu_gesture()\n",
    "    player = player_choice()\n",
    "    win = winner(cpu,player)\n",
    "    rounds(cpu,player)\n",
    "    if win == 'player':\n",
    "        player_score += 1\n",
    "    elif win == 'CPU':\n",
    "        cpu_score += 1"
   ]
  },
  {
   "cell_type": "markdown",
   "metadata": {},
   "source": [
    "#### 11. Print the winner of the game based on who won more rounds.\n",
    "Remember that the game might be tied. "
   ]
  },
  {
   "cell_type": "code",
   "execution_count": 16,
   "metadata": {},
   "outputs": [
    {
     "name": "stdout",
     "output_type": "stream",
     "text": [
      "\n",
      "Congrats, you've won!\n"
     ]
    }
   ],
   "source": [
    "if cpu_score > player_score:\n",
    "    print(\"\\nSo sorry mate, not tonight!\")\n",
    "else:\n",
    "    print(\"\\nCongrats, you've won!\")\n",
    "player_score = 0\n",
    "cpu_score = 0"
   ]
  },
  {
   "cell_type": "markdown",
   "metadata": {},
   "source": [
    "# Bonus: Rock, Paper, Scissors, Lizard & Spock\n",
    "![](images/rpsls.jpg)\n",
    "\n",
    "In this challenge, you need to improve the previous game by adding two new options. To know more about the rules of the improved version of rock, paper, scissors, check this [link](http://www.samkass.com/theories/RPSSL.html). \n",
    "\n",
    "In addition, you will also need to improve how the game interacts with the player: the number of rounds to play, which must be an odd number, will be requested to the user until a valid number is entered. Define a new function to make that request.\n",
    "\n",
    "**Hint**: Try to reuse the code that you already coded in the previous challenge. If your code is efficient, this bonus will only consist of simple modifications to the original game."
   ]
  },
  {
   "cell_type": "code",
   "execution_count": 18,
   "metadata": {},
   "outputs": [
    {
     "name": "stdout",
     "output_type": "stream",
     "text": [
      "Choose the number of rounds to play: 3\n",
      "\n",
      "Choose your move, player: cpo\n",
      "This move is not permitted, choose between: 'rock','paper',scissors'. Let's go: spock\n",
      "\n",
      "The CPU chose: scissors\n",
      "You chose: spock\n",
      "\n",
      "The player won!\n",
      "\n",
      "Choose your move, player: rock\n",
      "\n",
      "The CPU chose: rock\n",
      "You chose: rock\n",
      "\n",
      "It's a tie!\n",
      "\n",
      "Choose your move, player: paper\n",
      "\n",
      "The CPU chose: lizard\n",
      "You chose: paper\n",
      "\n",
      "The CPU won!\n",
      "\n",
      "Choose your move, player: spock\n",
      "\n",
      "The CPU chose: paper\n",
      "You chose: spock\n",
      "\n",
      "The CPU won!\n",
      "\n",
      "So sorry mate, not tonight!\n"
     ]
    }
   ],
   "source": [
    "new_gestures = ['rock','scissors','paper','lizard','spock']\n",
    "new_rounds = int(input('Choose the number of rounds to play: '))\n",
    "rounds_win = int(new_rounds/2) + 1\n",
    "\n",
    "def cpu_newgesture():\n",
    "    \n",
    "    cpu = random.choice(new_gestures)\n",
    "    \n",
    "    return cpu\n",
    "\n",
    "def player_newchoice():\n",
    "    \n",
    "    player = input(\"\\nChoose your move, player: \")\n",
    "    \n",
    "    while player not in new_gestures:\n",
    "        player = input(\"This move is not permitted, choose between: 'rock','paper',scissors'. Let's go: \")\n",
    "        \n",
    "    return player     \n",
    "\n",
    "def game_new(cpu,player):\n",
    "\n",
    "    options = ['rock','paper','scissors','lizard','spock']\n",
    "    check = [[0,-1,1,1,-1],[1,0,-1,-1,1],[-1,1,0,1,-1],[-1,1,-1,0,1],[1,-1,1,-1,0]]\n",
    "    \n",
    "    if check[options.index(cpu)][options.index(player)] > 0:\n",
    "        win = 'CPU'\n",
    "    elif check[options.index(cpu)][options.index(player)] == 0:\n",
    "        win = 'Tie'\n",
    "    else:\n",
    "        win = 'player'\n",
    "\n",
    "    return win\n",
    "\n",
    "def rounds_new(cpu,player):\n",
    "    print(\"\\nThe CPU chose:\",cpu)\n",
    "    print(\"You chose:\",player)\n",
    "    \n",
    "    winn = game_new(cpu,player)\n",
    "    \n",
    "    if winn != 'Tie':\n",
    "        print(\"\\nThe\",winn,\"won!\")\n",
    "    else:\n",
    "        print(\"\\nIt's a tie!\")\n",
    "        \n",
    "while max(player_score,cpu_score) < rounds_win:\n",
    "    cpu = cpu_newgesture()\n",
    "    player = player_newchoice()\n",
    "    winn = game_new(cpu,player)\n",
    "    rounds_new(cpu,player)\n",
    "    if winn == 'player':\n",
    "        player_score += 1\n",
    "    elif winn == 'CPU':\n",
    "        cpu_score += 1\n",
    "        \n",
    "if cpu_score > player_score:\n",
    "    print(\"\\nSo sorry mate, not tonight!\")\n",
    "else:\n",
    "    print(\"\\nCongrats, you've won!\")\n",
    "player_score = 0\n",
    "cpu_score = 0  "
   ]
  }
 ],
 "metadata": {
  "kernelspec": {
   "display_name": "Python 3",
   "language": "python",
   "name": "python3"
  },
  "language_info": {
   "codemirror_mode": {
    "name": "ipython",
    "version": 3
   },
   "file_extension": ".py",
   "mimetype": "text/x-python",
   "name": "python",
   "nbconvert_exporter": "python",
   "pygments_lexer": "ipython3",
   "version": "3.8.8"
  }
 },
 "nbformat": 4,
 "nbformat_minor": 2
}
